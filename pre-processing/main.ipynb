{
 "cells": [
  {
   "cell_type": "code",
   "id": "initial_id",
   "metadata": {
    "collapsed": true,
    "ExecuteTime": {
     "end_time": "2024-08-19T17:19:37.622829Z",
     "start_time": "2024-08-19T17:19:37.620426Z"
    }
   },
   "source": "import pandas as pd",
   "outputs": [],
   "execution_count": 44
  },
  {
   "metadata": {},
   "cell_type": "markdown",
   "source": "### Load dataset",
   "id": "8a06b2ff5738eaae"
  },
  {
   "metadata": {
    "ExecuteTime": {
     "end_time": "2024-08-19T17:19:37.684734Z",
     "start_time": "2024-08-19T17:19:37.673568Z"
    }
   },
   "cell_type": "code",
   "source": [
    "df = pd.read_csv(\"../dataset/sport-car-price.csv\")\n",
    "df.head()"
   ],
   "id": "8169b61b0475e116",
   "outputs": [
    {
     "data": {
      "text/plain": [
       "      Car Make Car Model  Year Engine Size (L) Horsepower Torque (lb-ft)  \\\n",
       "0      Porsche       911  2022               3        379            331   \n",
       "1  Lamborghini   Huracan  2021             5.2        630            443   \n",
       "2      Ferrari   488 GTB  2022             3.9        661            561   \n",
       "3         Audi        R8  2022             5.2        562            406   \n",
       "4      McLaren      720S  2021               4        710            568   \n",
       "\n",
       "  0-60 MPH Time (seconds) Price (in USD)  \n",
       "0                       4        101,200  \n",
       "1                     2.8        274,390  \n",
       "2                       3        333,750  \n",
       "3                     3.2        142,700  \n",
       "4                     2.7        298,000  "
      ],
      "text/html": [
       "<div>\n",
       "<style scoped>\n",
       "    .dataframe tbody tr th:only-of-type {\n",
       "        vertical-align: middle;\n",
       "    }\n",
       "\n",
       "    .dataframe tbody tr th {\n",
       "        vertical-align: top;\n",
       "    }\n",
       "\n",
       "    .dataframe thead th {\n",
       "        text-align: right;\n",
       "    }\n",
       "</style>\n",
       "<table border=\"1\" class=\"dataframe\">\n",
       "  <thead>\n",
       "    <tr style=\"text-align: right;\">\n",
       "      <th></th>\n",
       "      <th>Car Make</th>\n",
       "      <th>Car Model</th>\n",
       "      <th>Year</th>\n",
       "      <th>Engine Size (L)</th>\n",
       "      <th>Horsepower</th>\n",
       "      <th>Torque (lb-ft)</th>\n",
       "      <th>0-60 MPH Time (seconds)</th>\n",
       "      <th>Price (in USD)</th>\n",
       "    </tr>\n",
       "  </thead>\n",
       "  <tbody>\n",
       "    <tr>\n",
       "      <th>0</th>\n",
       "      <td>Porsche</td>\n",
       "      <td>911</td>\n",
       "      <td>2022</td>\n",
       "      <td>3</td>\n",
       "      <td>379</td>\n",
       "      <td>331</td>\n",
       "      <td>4</td>\n",
       "      <td>101,200</td>\n",
       "    </tr>\n",
       "    <tr>\n",
       "      <th>1</th>\n",
       "      <td>Lamborghini</td>\n",
       "      <td>Huracan</td>\n",
       "      <td>2021</td>\n",
       "      <td>5.2</td>\n",
       "      <td>630</td>\n",
       "      <td>443</td>\n",
       "      <td>2.8</td>\n",
       "      <td>274,390</td>\n",
       "    </tr>\n",
       "    <tr>\n",
       "      <th>2</th>\n",
       "      <td>Ferrari</td>\n",
       "      <td>488 GTB</td>\n",
       "      <td>2022</td>\n",
       "      <td>3.9</td>\n",
       "      <td>661</td>\n",
       "      <td>561</td>\n",
       "      <td>3</td>\n",
       "      <td>333,750</td>\n",
       "    </tr>\n",
       "    <tr>\n",
       "      <th>3</th>\n",
       "      <td>Audi</td>\n",
       "      <td>R8</td>\n",
       "      <td>2022</td>\n",
       "      <td>5.2</td>\n",
       "      <td>562</td>\n",
       "      <td>406</td>\n",
       "      <td>3.2</td>\n",
       "      <td>142,700</td>\n",
       "    </tr>\n",
       "    <tr>\n",
       "      <th>4</th>\n",
       "      <td>McLaren</td>\n",
       "      <td>720S</td>\n",
       "      <td>2021</td>\n",
       "      <td>4</td>\n",
       "      <td>710</td>\n",
       "      <td>568</td>\n",
       "      <td>2.7</td>\n",
       "      <td>298,000</td>\n",
       "    </tr>\n",
       "  </tbody>\n",
       "</table>\n",
       "</div>"
      ]
     },
     "execution_count": 45,
     "metadata": {},
     "output_type": "execute_result"
    }
   ],
   "execution_count": 45
  },
  {
   "metadata": {},
   "cell_type": "markdown",
   "source": "### Change column names",
   "id": "97792012a2431ea9"
  },
  {
   "metadata": {
    "ExecuteTime": {
     "end_time": "2024-08-19T17:19:37.750617Z",
     "start_time": "2024-08-19T17:19:37.744780Z"
    }
   },
   "cell_type": "code",
   "source": [
    "df.columns = [\"brand\", \"model\", \"year\", \"engine_size\", \"horsepower\", \"torque\", \"0-60\", \"price\"]\n",
    "df.head()"
   ],
   "id": "4707d8889013b436",
   "outputs": [
    {
     "data": {
      "text/plain": [
       "         brand    model  year engine_size horsepower torque 0-60    price\n",
       "0      Porsche      911  2022           3        379    331    4  101,200\n",
       "1  Lamborghini  Huracan  2021         5.2        630    443  2.8  274,390\n",
       "2      Ferrari  488 GTB  2022         3.9        661    561    3  333,750\n",
       "3         Audi       R8  2022         5.2        562    406  3.2  142,700\n",
       "4      McLaren     720S  2021           4        710    568  2.7  298,000"
      ],
      "text/html": [
       "<div>\n",
       "<style scoped>\n",
       "    .dataframe tbody tr th:only-of-type {\n",
       "        vertical-align: middle;\n",
       "    }\n",
       "\n",
       "    .dataframe tbody tr th {\n",
       "        vertical-align: top;\n",
       "    }\n",
       "\n",
       "    .dataframe thead th {\n",
       "        text-align: right;\n",
       "    }\n",
       "</style>\n",
       "<table border=\"1\" class=\"dataframe\">\n",
       "  <thead>\n",
       "    <tr style=\"text-align: right;\">\n",
       "      <th></th>\n",
       "      <th>brand</th>\n",
       "      <th>model</th>\n",
       "      <th>year</th>\n",
       "      <th>engine_size</th>\n",
       "      <th>horsepower</th>\n",
       "      <th>torque</th>\n",
       "      <th>0-60</th>\n",
       "      <th>price</th>\n",
       "    </tr>\n",
       "  </thead>\n",
       "  <tbody>\n",
       "    <tr>\n",
       "      <th>0</th>\n",
       "      <td>Porsche</td>\n",
       "      <td>911</td>\n",
       "      <td>2022</td>\n",
       "      <td>3</td>\n",
       "      <td>379</td>\n",
       "      <td>331</td>\n",
       "      <td>4</td>\n",
       "      <td>101,200</td>\n",
       "    </tr>\n",
       "    <tr>\n",
       "      <th>1</th>\n",
       "      <td>Lamborghini</td>\n",
       "      <td>Huracan</td>\n",
       "      <td>2021</td>\n",
       "      <td>5.2</td>\n",
       "      <td>630</td>\n",
       "      <td>443</td>\n",
       "      <td>2.8</td>\n",
       "      <td>274,390</td>\n",
       "    </tr>\n",
       "    <tr>\n",
       "      <th>2</th>\n",
       "      <td>Ferrari</td>\n",
       "      <td>488 GTB</td>\n",
       "      <td>2022</td>\n",
       "      <td>3.9</td>\n",
       "      <td>661</td>\n",
       "      <td>561</td>\n",
       "      <td>3</td>\n",
       "      <td>333,750</td>\n",
       "    </tr>\n",
       "    <tr>\n",
       "      <th>3</th>\n",
       "      <td>Audi</td>\n",
       "      <td>R8</td>\n",
       "      <td>2022</td>\n",
       "      <td>5.2</td>\n",
       "      <td>562</td>\n",
       "      <td>406</td>\n",
       "      <td>3.2</td>\n",
       "      <td>142,700</td>\n",
       "    </tr>\n",
       "    <tr>\n",
       "      <th>4</th>\n",
       "      <td>McLaren</td>\n",
       "      <td>720S</td>\n",
       "      <td>2021</td>\n",
       "      <td>4</td>\n",
       "      <td>710</td>\n",
       "      <td>568</td>\n",
       "      <td>2.7</td>\n",
       "      <td>298,000</td>\n",
       "    </tr>\n",
       "  </tbody>\n",
       "</table>\n",
       "</div>"
      ]
     },
     "execution_count": 46,
     "metadata": {},
     "output_type": "execute_result"
    }
   ],
   "execution_count": 46
  },
  {
   "metadata": {},
   "cell_type": "markdown",
   "source": "# Analyze data set",
   "id": "fa96b609cb24c6b9"
  },
  {
   "metadata": {
    "ExecuteTime": {
     "end_time": "2024-08-19T17:19:37.811697Z",
     "start_time": "2024-08-19T17:19:37.807488Z"
    }
   },
   "cell_type": "code",
   "source": [
    "# check for missing values\n",
    "df.isnull().sum()"
   ],
   "id": "684e59072ebc6014",
   "outputs": [
    {
     "data": {
      "text/plain": [
       "brand           0\n",
       "model           0\n",
       "year            0\n",
       "engine_size    10\n",
       "horsepower      0\n",
       "torque          3\n",
       "0-60            0\n",
       "price           0\n",
       "dtype: int64"
      ]
     },
     "execution_count": 47,
     "metadata": {},
     "output_type": "execute_result"
    }
   ],
   "execution_count": 47
  },
  {
   "metadata": {
    "ExecuteTime": {
     "end_time": "2024-08-19T17:19:37.915422Z",
     "start_time": "2024-08-19T17:19:37.912430Z"
    }
   },
   "cell_type": "code",
   "source": [
    "# get distinct values for brand\n",
    "df[\"brand\"].unique()"
   ],
   "id": "114a37a5875d41e4",
   "outputs": [
    {
     "data": {
      "text/plain": [
       "array(['Porsche', 'Lamborghini', 'Ferrari', 'Audi', 'McLaren', 'BMW',\n",
       "       'Mercedes-Benz', 'Chevrolet', 'Ford', 'Nissan', 'Aston Martin',\n",
       "       'Bugatti', 'Dodge', 'Jaguar', 'Koenigsegg', 'Lexus', 'Lotus',\n",
       "       'Maserati', 'Alfa Romeo', 'Ariel', 'Bentley', 'Mercedes-AMG',\n",
       "       'Pagani', 'Polestar', 'Rimac', 'Acura', 'Mazda', 'Rolls-Royce',\n",
       "       'Tesla', 'Toyota', 'W Motors', 'Shelby', 'TVR', 'Subaru',\n",
       "       'Pininfarina', 'Kia', 'Alpine', 'Ultima'], dtype=object)"
      ]
     },
     "execution_count": 48,
     "metadata": {},
     "output_type": "execute_result"
    }
   ],
   "execution_count": 48
  },
  {
   "metadata": {
    "ExecuteTime": {
     "end_time": "2024-08-19T17:19:38.021068Z",
     "start_time": "2024-08-19T17:19:38.017112Z"
    }
   },
   "cell_type": "code",
   "source": [
    "# get distinct values for model\n",
    "df[\"model\"].unique()"
   ],
   "id": "994596ca95143ace",
   "outputs": [
    {
     "data": {
      "text/plain": [
       "array(['911', 'Huracan', '488 GTB', 'R8', '720S', 'M8', 'AMG GT',\n",
       "       'Corvette', 'Mustang Shelby GT500', 'GT-R Nismo', 'DB11', 'Chiron',\n",
       "       'Challenger SRT Hellcat', 'F-Type', 'Jesko', 'LC 500', 'Evora GT',\n",
       "       'GranTurismo', 'Boxster', 'Giulia Quadrifoglio', 'Atom',\n",
       "       'Continental GT', 'Artura', 'SLS AMG', 'Huayra', '1', 'Nevera',\n",
       "       'Cayman GT4', 'Aventador SVJ', 'SF90 Stradale', 'RS7', 'M4',\n",
       "       'Camaro ZL1', 'GT', '370Z Nismo', 'Taycan 4S', 'Urus', 'Roma',\n",
       "       'RS3', 'i8', 'CLS63 AMG', 'Cayman', '570S', 'AMG C63', 'Camaro SS',\n",
       "       'Mustang GT', 'Vantage', 'Panamera', 'S5', '600LT', 'M5', 'RS5',\n",
       "       'M2', 'Challenger SRT Hellcat Redeye', 'Aventador', 'C63 AMG',\n",
       "       '370Z', 'TT RS', 'Corvette Stingray', 'F8 Tributo',\n",
       "       'Mustang Mach 1', '718 Cayman', 'NSX', 'MX-5 Miata',\n",
       "       '718 Cayman GT4', 'Wraith', 'Roadster', 'Supra',\n",
       "       'Fenyr Supersport', 'SL 63 AMG', 'DBS Superleggera',\n",
       "       'Panamera Turbo S E-Hybrid', 'Portofino', 'Panamera Turbo S',\n",
       "       'Z4 M40i', 'RS 3', 'M2 CS', 'Viper', 'C_Two', 'Cobra',\n",
       "       'Model S Plaid', 'GR Supra', 'Griffith', 'Lykan Hypersport',\n",
       "       'RS 6', 'Taycan', 'AMG C 63', 'RS 6 Avant', 'C 63 S Coupe', 'RS 7',\n",
       "       'Aventador S', 'M2 Competition', 'S63 AMG', 'Taycan Turbo S',\n",
       "       '812 Superfast', 'R8 Spyder', 'AMG GT R', 'F-Type R', '4C',\n",
       "       'Charger SRT Hellcat', 'WRX STI', 'Panamera Turbo', 'RS 5 Coupe',\n",
       "       'SLS AMG Black Series', 'Huayra Roadster BC', 'Battista',\n",
       "       'Stinger', 'Model S', '765LT', 'Challenger Hellcat Redeye',\n",
       "       'Evora', 'Challenger Hellcat', 'LC', 'Huayra BC', 'A110', 'C 63 S',\n",
       "       'RS 5', 'Viper ACR', 'RS7 Sportback', 'M4 Competition',\n",
       "       'Charger Hellcat', 'Jesko Absolut', 'Evija', 'AMG GT Black Series',\n",
       "       '600LT Spider', 'Camaro SS 1LE', 'Speedtail', 'Sián', 'SLC 43',\n",
       "       '718 Boxster', 'F8 Spider', '4C Spider', 'RS5 Coupe',\n",
       "       'C63 S Coupe', 'TT RS Coupe', 'M4 Coupe', 'RS', 'Fenyr SuperSport',\n",
       "       'Chiron Super Sport 300+', 'Senna', 'RS 7 Sportback', 'AMG C 63 S',\n",
       "       'Corvette Z06', 'AMG GT 63 S', 'Portofino M', 'SL', 'Camaro',\n",
       "       'Dawn', 'Chiron Pur Sport', 'GT Black Series', '400Z', 'RS6',\n",
       "       'GT 63', '918 Spyder', 'Continental GT Speed', 'Challenger',\n",
       "       '911 Turbo S', 'M5 Competition', 'RS6 Avant', 'Z4 Roadster',\n",
       "       'Camaro SS Convertible', '370Z Coupe', 'GT 63 S', '570S Spider',\n",
       "       'C 63 AMG', 'Challenger R/T', 'C63 S AMG', 'AMG C43 Coupe',\n",
       "       'AMG A45', 'Ghost', 'Charger', 'Panamera GTS',\n",
       "       'AMG GT 4-Door Coupe', 'C63 S', 'MC20', 'Mustang'], dtype=object)"
      ]
     },
     "execution_count": 49,
     "metadata": {},
     "output_type": "execute_result"
    }
   ],
   "execution_count": 49
  },
  {
   "metadata": {
    "ExecuteTime": {
     "end_time": "2024-08-19T17:19:38.117113Z",
     "start_time": "2024-08-19T17:19:38.114243Z"
    }
   },
   "cell_type": "code",
   "source": [
    "# get distinct values for year\n",
    "df[\"year\"].unique()"
   ],
   "id": "23df27ed9d58093e",
   "outputs": [
    {
     "data": {
      "text/plain": [
       "array([2022, 2021, 2015, 2020, 2019, 2017, 1965, 2014, 2023])"
      ]
     },
     "execution_count": 50,
     "metadata": {},
     "output_type": "execute_result"
    }
   ],
   "execution_count": 50
  },
  {
   "metadata": {
    "ExecuteTime": {
     "end_time": "2024-08-19T17:19:38.170491Z",
     "start_time": "2024-08-19T17:19:38.167481Z"
    }
   },
   "cell_type": "code",
   "source": [
    "# get distinct values for engine size\n",
    "df[\"engine_size\"].unique()"
   ],
   "id": "11e77e87b1bea6bb",
   "outputs": [
    {
     "data": {
      "text/plain": [
       "array(['3', '5.2', '3.9', '4', '4.4', '6.2', '3.8', '8', '5', '3.5',\n",
       "       '4.7', '2', '2.9', '6', 'Electric', '6.5', '3.7', 'Electric Motor',\n",
       "       '2.5', '1.5 + Electric', '6.8', '8.4', nan, '6.6', '7', '1.7',\n",
       "       '3.3', '-', '6.7', '1.8', 'Electric (tri-motor)', '5.5',\n",
       "       'Electric (93 kWh)', 'Electric (100 kWh)', 'Hybrid (4.0)', '4.6',\n",
       "       '3.6', '1.5', 'Hybrid', '5.7', '2.0 (Electric)', '4.0 (Hybrid)',\n",
       "       '0', '6.4', '6.3', '2.3'], dtype=object)"
      ]
     },
     "execution_count": 51,
     "metadata": {},
     "output_type": "execute_result"
    }
   ],
   "execution_count": 51
  },
  {
   "metadata": {
    "ExecuteTime": {
     "end_time": "2024-08-19T17:19:38.227456Z",
     "start_time": "2024-08-19T17:19:38.221977Z"
    }
   },
   "cell_type": "code",
   "source": "df[df[\"engine_size\"]==\"-\"]",
   "id": "75c30849e3213360",
   "outputs": [
    {
     "data": {
      "text/plain": [
       "     brand     model  year engine_size horsepower torque 0-60    price\n",
       "335  Tesla  Roadster  2022           -      1000+      -  1.9  200,000"
      ],
      "text/html": [
       "<div>\n",
       "<style scoped>\n",
       "    .dataframe tbody tr th:only-of-type {\n",
       "        vertical-align: middle;\n",
       "    }\n",
       "\n",
       "    .dataframe tbody tr th {\n",
       "        vertical-align: top;\n",
       "    }\n",
       "\n",
       "    .dataframe thead th {\n",
       "        text-align: right;\n",
       "    }\n",
       "</style>\n",
       "<table border=\"1\" class=\"dataframe\">\n",
       "  <thead>\n",
       "    <tr style=\"text-align: right;\">\n",
       "      <th></th>\n",
       "      <th>brand</th>\n",
       "      <th>model</th>\n",
       "      <th>year</th>\n",
       "      <th>engine_size</th>\n",
       "      <th>horsepower</th>\n",
       "      <th>torque</th>\n",
       "      <th>0-60</th>\n",
       "      <th>price</th>\n",
       "    </tr>\n",
       "  </thead>\n",
       "  <tbody>\n",
       "    <tr>\n",
       "      <th>335</th>\n",
       "      <td>Tesla</td>\n",
       "      <td>Roadster</td>\n",
       "      <td>2022</td>\n",
       "      <td>-</td>\n",
       "      <td>1000+</td>\n",
       "      <td>-</td>\n",
       "      <td>1.9</td>\n",
       "      <td>200,000</td>\n",
       "    </tr>\n",
       "  </tbody>\n",
       "</table>\n",
       "</div>"
      ]
     },
     "execution_count": 52,
     "metadata": {},
     "output_type": "execute_result"
    }
   ],
   "execution_count": 52
  },
  {
   "metadata": {
    "ExecuteTime": {
     "end_time": "2024-08-19T17:19:38.290310Z",
     "start_time": "2024-08-19T17:19:38.287741Z"
    }
   },
   "cell_type": "code",
   "source": [
    "# get distinct values for horsepower\n",
    "df[\"horsepower\"].unique()"
   ],
   "id": "54a7b668b3639d5e",
   "outputs": [
    {
     "data": {
      "text/plain": [
       "array(['379', '630', '661', '562', '710', '617', '523', '490', '760',\n",
       "       '600', '1500', '717', '296', '1280', '471', '416', '454', '300',\n",
       "       '505', '320', '626', '671', '622', '720', '1914', '414', '759',\n",
       "       '986', '591', '503', '650', '660', '350', '641', '611', '394',\n",
       "       '612', '369', '603', '455', '460', '325', '349', '592', '444',\n",
       "       '405', '797', '770', '332', '473', '480', '573', '380', '1600',\n",
       "       '181', '620', '764', '624', '1000+', '382', '800', '715', '690',\n",
       "       '730', '469', '365', '401', '645', '435', '1020', '500', '780',\n",
       "       '750', '402', '575', '729', '789', '577', '495', '237', '310',\n",
       "       '791', '1874', '542', '368', '616', '1479', '755', '1,000+', '288',\n",
       "       '1888', '10000+', '482', '1973', '1262', '1035', '819', '385',\n",
       "       '647', '1200', '1578', '625', '583', '429', '563', '400', '707',\n",
       "       '887', '1972', '305', '640', '255', '689', '372', '1000', '2000',\n",
       "       '550', '10,000', '1,500', '10,000+', '485', '1,020', '1872', '621'],\n",
       "      dtype=object)"
      ]
     },
     "execution_count": 53,
     "metadata": {},
     "output_type": "execute_result"
    }
   ],
   "execution_count": 53
  },
  {
   "metadata": {
    "ExecuteTime": {
     "end_time": "2024-08-19T17:19:38.342990Z",
     "start_time": "2024-08-19T17:19:38.338827Z"
    }
   },
   "cell_type": "code",
   "source": [
    "# get distinct values for torque\n",
    "df[\"torque\"].unique()"
   ],
   "id": "5f26327caf44cc73",
   "outputs": [
    {
     "data": {
      "text/plain": [
       "array(['331', '443', '561', '406', '568', '553', '494', '465', '625',\n",
       "       '481', '516', '1180', '656', '295', '1015', '398', '317', '384',\n",
       "       '280', '243', '664', '531', '468', '737', '738', '1696', '309',\n",
       "       '590', '479', '650', '550', '276', '626', '369', '420', '627',\n",
       "       '455', '505', '560', '457', '707', '270', '354', '476', '339',\n",
       "       '1106', '151', '605', '368', '723', '642', '509', '604', '507',\n",
       "       '513', '600', '440', '1050', '708', '774', '254', '663', '332',\n",
       "       '530', '470', '258', '290', '413', '1732', '376', '-', '10,000+',\n",
       "       '236', '0', '472', '1254', '848', '1300', '442', '641', '498',\n",
       "       '350', nan, '944', '268', '184', '400', '263', '7,376', '1,180',\n",
       "       '475', '1,050', '740', '538'], dtype=object)"
      ]
     },
     "execution_count": 54,
     "metadata": {},
     "output_type": "execute_result"
    }
   ],
   "execution_count": 54
  },
  {
   "metadata": {
    "ExecuteTime": {
     "end_time": "2024-08-19T17:19:38.399056Z",
     "start_time": "2024-08-19T17:19:38.396125Z"
    }
   },
   "cell_type": "code",
   "source": [
    "# get distinct values for acceleration\n",
    "df[\"0-60\"].unique()"
   ],
   "id": "4bd559ac7050e6bd",
   "outputs": [
    {
     "data": {
      "text/plain": [
       "array(['4', '2.8', '3', '3.2', '2.7', '3.1', '3.8', '3.5', '2.5', '2.4',\n",
       "       '5.4', '4.4', '4.8', '4.7', '3.6', '4.1', '1.85', '4.5', '3.3',\n",
       "       '3.9', '4.2', '3.4', '5.1', '4.3', '2.9', '5', '5.3', '4.9', '6.5',\n",
       "       '3.7', '1.95', '1.9', '1.98', '2.6', '2.3', '4.6', '< 1.9', '1.8',\n",
       "       '2.1', '5.2', '2.2', '6.4', '2'], dtype=object)"
      ]
     },
     "execution_count": 55,
     "metadata": {},
     "output_type": "execute_result"
    }
   ],
   "execution_count": 55
  },
  {
   "metadata": {
    "ExecuteTime": {
     "end_time": "2024-08-19T17:19:38.456431Z",
     "start_time": "2024-08-19T17:19:38.452813Z"
    }
   },
   "cell_type": "code",
   "source": [
    "# get distinct values for price\n",
    "df[\"price\"].unique()"
   ],
   "id": "baf6251f4c447729",
   "outputs": [
    {
     "data": {
      "text/plain": [
       "array(['101,200', '274,390', '333,750', '142,700', '298,000', '130,000',\n",
       "       '118,500', '59,900', '81,000', '212,000', '201,495', '3,000,000',\n",
       "       '61,000', '70,100', '2,800,000', '92,950', '104,450', '150,000',\n",
       "       '62,000', '78,000', '75,000', '225,000', '248,000', '155,000',\n",
       "       '2,400,000', '100,200', '517,770', '625,000', '117,000', '72,800',\n",
       "       '222,000', '64,695', '500,000', '45,690', '104,000', '218,000',\n",
       "       '57,000', '210,000', '148,500', '132,000', '58,900', '518,000',\n",
       "       '56,200', '192,500', '71,800', '68,000', '42,500', '39,000',\n",
       "       '46,100', '142,100', '105,000', '87,200', '52,500', '241,000',\n",
       "       '103,500', '146,000', '75,400', '42,900', '78,595', '62,750',\n",
       "       '417,826', '150,980', '30,090', '88,700', '67,600', '274,280',\n",
       "       '52,915', '218,009', '159,495', '142,086', '219,800', '74,290',\n",
       "       '71,900', '134,300', '26,830', '213,195', '221,580', '100,550',\n",
       "       '330,000', '200,000', '43,090', '1,700,000', '60,500', '522,000',\n",
       "       '67,000', '212,500', '64,000', '31,015', '304,995', '190,000',\n",
       "       '115,000', '59,000', '102,100', '220,300', '114,000', '239,100',\n",
       "       '62,500', '65,290', '219,750', '187,700', '222,004', '71,350',\n",
       "       '68,900', '276,550', '63,700', '44,000', '51,720', '45,790',\n",
       "       '88,550', '222,620', '84,595', '77,500', '157,500', '204,100',\n",
       "       '120,000', '69,900', '105,950', '204,550', '2,700,000', '102,900',\n",
       "       '1,000,000', '131,190', '123,500', '3,400,000', '61,500',\n",
       "       '507,000', '109,000', '228,000', '42,000', '45,000', '185,000',\n",
       "       '56,000', '191,000', '81,250', '517,700', '242,500', '77,000',\n",
       "       '76,000', '103,200', '177,700', '417,650', '115,045', '256,500',\n",
       "       '59,895', '152,500', '69,995', '363,730', '183,300', '73,795',\n",
       "       '183,000', '60,995', '207,000', '203,825', '99,800', '67,150',\n",
       "       '77,250', '71,490', '150,400', '47,820', '38,170', '102,000',\n",
       "       '393,695', '218,750', '40,590', '52,720', '174,300', '67,895',\n",
       "       '62,290', '93,050', '75,100', '64,195', '211,000', '275,000',\n",
       "       '2,998,000', '573,966', '3,500,000', '2,500,000', '70,000',\n",
       "       '61,600', '52,200', '100,450', '102,550', '76,400', '69,000',\n",
       "       '247,500', '79,900', '119,000', '307,820', '207,825', '202,500',\n",
       "       '63,000', '96,950', '358,000', '30,000', '2,600,000', '180,000',\n",
       "       '131,100', '82,190', '76,950', '132,795', '215,500', '80,900',\n",
       "       '40,000', '209,000', '67,500', '104,200', '133,050', '196,350',\n",
       "       '338,000', '218,400', '73,000', '104,970', '132,400', '71,500',\n",
       "       '118,795', '240,000', '221,400', '64,100', '81,550', '62,250',\n",
       "       '92,000', '141,190', '64,995', '126,190', '205,000', '75,695',\n",
       "       '2,750,000', '326,050', '102,500', '44,500', '51,000', '2,300,000',\n",
       "       '3,600,000', '215,000', '36,120', '220,000', '280,000', '208,800',\n",
       "       '229,000', '46,200', '71,000', '308,000', '80,500', '105,900',\n",
       "       '180,800', '94,000', '70,900', '76,450', '198,950', '77,950',\n",
       "       '314,500', '214,425', '104,400', '335,550', '141,990', '1,550,000',\n",
       "       '65,000', '63,100', '140,000', '325,000', '80,190', '68,745',\n",
       "       '139,990', '5,200,000', '1,500,000', '460,247', '110,045',\n",
       "       '77,400', '46,815', '85,000', '162,900', '245,000', '74,750',\n",
       "       '70,595', '203,500', '47,190', '222,630', '208,000', '96,250',\n",
       "       '25,000', '103,800', '48,000', '93,000', '346,300', '3,599,000',\n",
       "       '1,050,000', '186,350', '205,600', '201,000', '340,000', '101,000',\n",
       "       '43,000', '305,000', '204,995', '243,600', '113,000', '161,200',\n",
       "       '310,000', '1,800,000', '517,000', '110,000', '300,000', '100,000',\n",
       "       '135,000', '62,195', '28,000', '147,500', '250,000', '67,800',\n",
       "       '211,300', '222,500', '43,995', '152,995', '235,000', '335,000',\n",
       "       '50,000', '49,000', '98,395', '168,000', '64,500', '46,000',\n",
       "       '147,000', '193,000', '162,000', '76,700', '35,000', '151,000',\n",
       "       '83,250', '74,700', '77,600', '181,100', '329,100', '46,610',\n",
       "       '74,000', '63,995', '2,900,000', '201,500', '332,500', '198,995',\n",
       "       '72,000', '254,995', '60,695', '64,700', '99,990', '150,800',\n",
       "       '88,800', '76,350', '202,000', '96,000', '33,000', '75,250',\n",
       "       '99,000', '149,995', '37,500', '38,500', '71,450', '134,150',\n",
       "       '171,200', '321,000', '100,500', '195,000', '78,100', '78,450',\n",
       "       '3,900,000', '2,000,000', '254,500', '27,205'], dtype=object)"
      ]
     },
     "execution_count": 56,
     "metadata": {},
     "output_type": "execute_result"
    }
   ],
   "execution_count": 56
  },
  {
   "metadata": {},
   "cell_type": "markdown",
   "source": "# Pre-process data",
   "id": "3e2a37d367b1dd74"
  },
  {
   "metadata": {},
   "cell_type": "markdown",
   "source": "### Drop missing values",
   "id": "8ed5fa27cd665267"
  },
  {
   "metadata": {
    "ExecuteTime": {
     "end_time": "2024-08-19T17:19:38.506227Z",
     "start_time": "2024-08-19T17:19:38.503480Z"
    }
   },
   "cell_type": "code",
   "source": "df = df.dropna()",
   "id": "f0f0d3ba9b5545cf",
   "outputs": [],
   "execution_count": 57
  },
  {
   "metadata": {},
   "cell_type": "markdown",
   "source": "### Create new column power_type",
   "id": "3a41fccd678ecfa0"
  },
  {
   "metadata": {
    "ExecuteTime": {
     "end_time": "2024-08-19T17:19:38.563797Z",
     "start_time": "2024-08-19T17:19:38.555978Z"
    }
   },
   "cell_type": "code",
   "source": [
    "def get_power_type(engine_size):\n",
    "    if \"electric\" in engine_size.lower() or \"-\" in engine_size.lower():\n",
    "        return \"electric\"\n",
    "    elif \"hybrid\" in engine_size.lower():\n",
    "        return \"hybrid\"\n",
    "    else:\n",
    "        return \"gasoline\"\n",
    "        \n",
    "\n",
    "df[\"power_type\"] = df[\"engine_size\"].apply(get_power_type)\n",
    "df.head()"
   ],
   "id": "c5d3e15629135620",
   "outputs": [
    {
     "data": {
      "text/plain": [
       "         brand    model  year engine_size horsepower torque 0-60    price  \\\n",
       "0      Porsche      911  2022           3        379    331    4  101,200   \n",
       "1  Lamborghini  Huracan  2021         5.2        630    443  2.8  274,390   \n",
       "2      Ferrari  488 GTB  2022         3.9        661    561    3  333,750   \n",
       "3         Audi       R8  2022         5.2        562    406  3.2  142,700   \n",
       "4      McLaren     720S  2021           4        710    568  2.7  298,000   \n",
       "\n",
       "  power_type  \n",
       "0   gasoline  \n",
       "1   gasoline  \n",
       "2   gasoline  \n",
       "3   gasoline  \n",
       "4   gasoline  "
      ],
      "text/html": [
       "<div>\n",
       "<style scoped>\n",
       "    .dataframe tbody tr th:only-of-type {\n",
       "        vertical-align: middle;\n",
       "    }\n",
       "\n",
       "    .dataframe tbody tr th {\n",
       "        vertical-align: top;\n",
       "    }\n",
       "\n",
       "    .dataframe thead th {\n",
       "        text-align: right;\n",
       "    }\n",
       "</style>\n",
       "<table border=\"1\" class=\"dataframe\">\n",
       "  <thead>\n",
       "    <tr style=\"text-align: right;\">\n",
       "      <th></th>\n",
       "      <th>brand</th>\n",
       "      <th>model</th>\n",
       "      <th>year</th>\n",
       "      <th>engine_size</th>\n",
       "      <th>horsepower</th>\n",
       "      <th>torque</th>\n",
       "      <th>0-60</th>\n",
       "      <th>price</th>\n",
       "      <th>power_type</th>\n",
       "    </tr>\n",
       "  </thead>\n",
       "  <tbody>\n",
       "    <tr>\n",
       "      <th>0</th>\n",
       "      <td>Porsche</td>\n",
       "      <td>911</td>\n",
       "      <td>2022</td>\n",
       "      <td>3</td>\n",
       "      <td>379</td>\n",
       "      <td>331</td>\n",
       "      <td>4</td>\n",
       "      <td>101,200</td>\n",
       "      <td>gasoline</td>\n",
       "    </tr>\n",
       "    <tr>\n",
       "      <th>1</th>\n",
       "      <td>Lamborghini</td>\n",
       "      <td>Huracan</td>\n",
       "      <td>2021</td>\n",
       "      <td>5.2</td>\n",
       "      <td>630</td>\n",
       "      <td>443</td>\n",
       "      <td>2.8</td>\n",
       "      <td>274,390</td>\n",
       "      <td>gasoline</td>\n",
       "    </tr>\n",
       "    <tr>\n",
       "      <th>2</th>\n",
       "      <td>Ferrari</td>\n",
       "      <td>488 GTB</td>\n",
       "      <td>2022</td>\n",
       "      <td>3.9</td>\n",
       "      <td>661</td>\n",
       "      <td>561</td>\n",
       "      <td>3</td>\n",
       "      <td>333,750</td>\n",
       "      <td>gasoline</td>\n",
       "    </tr>\n",
       "    <tr>\n",
       "      <th>3</th>\n",
       "      <td>Audi</td>\n",
       "      <td>R8</td>\n",
       "      <td>2022</td>\n",
       "      <td>5.2</td>\n",
       "      <td>562</td>\n",
       "      <td>406</td>\n",
       "      <td>3.2</td>\n",
       "      <td>142,700</td>\n",
       "      <td>gasoline</td>\n",
       "    </tr>\n",
       "    <tr>\n",
       "      <th>4</th>\n",
       "      <td>McLaren</td>\n",
       "      <td>720S</td>\n",
       "      <td>2021</td>\n",
       "      <td>4</td>\n",
       "      <td>710</td>\n",
       "      <td>568</td>\n",
       "      <td>2.7</td>\n",
       "      <td>298,000</td>\n",
       "      <td>gasoline</td>\n",
       "    </tr>\n",
       "  </tbody>\n",
       "</table>\n",
       "</div>"
      ]
     },
     "execution_count": 58,
     "metadata": {},
     "output_type": "execute_result"
    }
   ],
   "execution_count": 58
  },
  {
   "metadata": {},
   "cell_type": "markdown",
   "source": "### Replace engine size values with liter value or electric",
   "id": "92bd6a72801d8b45"
  },
  {
   "metadata": {
    "ExecuteTime": {
     "end_time": "2024-08-19T17:19:38.634731Z",
     "start_time": "2024-08-19T17:19:38.626050Z"
    }
   },
   "cell_type": "code",
   "source": [
    "def replace_engine_size(engine_size):\n",
    "    if \"electric\" in engine_size.lower() or \"-\" in engine_size.lower():\n",
    "        return \"electric\"\n",
    "    elif \"hybrid\" in engine_size.lower():\n",
    "        return \"hybrid\"\n",
    "    else:\n",
    "        return float(engine_size)\n",
    "df[\"engine_size\"] = df[\"engine_size\"].apply(replace_engine_size)\n",
    "df.head()"
   ],
   "id": "575e1961f2aaac82",
   "outputs": [
    {
     "data": {
      "text/plain": [
       "         brand    model  year engine_size horsepower torque 0-60    price  \\\n",
       "0      Porsche      911  2022         3.0        379    331    4  101,200   \n",
       "1  Lamborghini  Huracan  2021         5.2        630    443  2.8  274,390   \n",
       "2      Ferrari  488 GTB  2022         3.9        661    561    3  333,750   \n",
       "3         Audi       R8  2022         5.2        562    406  3.2  142,700   \n",
       "4      McLaren     720S  2021         4.0        710    568  2.7  298,000   \n",
       "\n",
       "  power_type  \n",
       "0   gasoline  \n",
       "1   gasoline  \n",
       "2   gasoline  \n",
       "3   gasoline  \n",
       "4   gasoline  "
      ],
      "text/html": [
       "<div>\n",
       "<style scoped>\n",
       "    .dataframe tbody tr th:only-of-type {\n",
       "        vertical-align: middle;\n",
       "    }\n",
       "\n",
       "    .dataframe tbody tr th {\n",
       "        vertical-align: top;\n",
       "    }\n",
       "\n",
       "    .dataframe thead th {\n",
       "        text-align: right;\n",
       "    }\n",
       "</style>\n",
       "<table border=\"1\" class=\"dataframe\">\n",
       "  <thead>\n",
       "    <tr style=\"text-align: right;\">\n",
       "      <th></th>\n",
       "      <th>brand</th>\n",
       "      <th>model</th>\n",
       "      <th>year</th>\n",
       "      <th>engine_size</th>\n",
       "      <th>horsepower</th>\n",
       "      <th>torque</th>\n",
       "      <th>0-60</th>\n",
       "      <th>price</th>\n",
       "      <th>power_type</th>\n",
       "    </tr>\n",
       "  </thead>\n",
       "  <tbody>\n",
       "    <tr>\n",
       "      <th>0</th>\n",
       "      <td>Porsche</td>\n",
       "      <td>911</td>\n",
       "      <td>2022</td>\n",
       "      <td>3.0</td>\n",
       "      <td>379</td>\n",
       "      <td>331</td>\n",
       "      <td>4</td>\n",
       "      <td>101,200</td>\n",
       "      <td>gasoline</td>\n",
       "    </tr>\n",
       "    <tr>\n",
       "      <th>1</th>\n",
       "      <td>Lamborghini</td>\n",
       "      <td>Huracan</td>\n",
       "      <td>2021</td>\n",
       "      <td>5.2</td>\n",
       "      <td>630</td>\n",
       "      <td>443</td>\n",
       "      <td>2.8</td>\n",
       "      <td>274,390</td>\n",
       "      <td>gasoline</td>\n",
       "    </tr>\n",
       "    <tr>\n",
       "      <th>2</th>\n",
       "      <td>Ferrari</td>\n",
       "      <td>488 GTB</td>\n",
       "      <td>2022</td>\n",
       "      <td>3.9</td>\n",
       "      <td>661</td>\n",
       "      <td>561</td>\n",
       "      <td>3</td>\n",
       "      <td>333,750</td>\n",
       "      <td>gasoline</td>\n",
       "    </tr>\n",
       "    <tr>\n",
       "      <th>3</th>\n",
       "      <td>Audi</td>\n",
       "      <td>R8</td>\n",
       "      <td>2022</td>\n",
       "      <td>5.2</td>\n",
       "      <td>562</td>\n",
       "      <td>406</td>\n",
       "      <td>3.2</td>\n",
       "      <td>142,700</td>\n",
       "      <td>gasoline</td>\n",
       "    </tr>\n",
       "    <tr>\n",
       "      <th>4</th>\n",
       "      <td>McLaren</td>\n",
       "      <td>720S</td>\n",
       "      <td>2021</td>\n",
       "      <td>4.0</td>\n",
       "      <td>710</td>\n",
       "      <td>568</td>\n",
       "      <td>2.7</td>\n",
       "      <td>298,000</td>\n",
       "      <td>gasoline</td>\n",
       "    </tr>\n",
       "  </tbody>\n",
       "</table>\n",
       "</div>"
      ]
     },
     "execution_count": 59,
     "metadata": {},
     "output_type": "execute_result"
    }
   ],
   "execution_count": 59
  },
  {
   "metadata": {},
   "cell_type": "markdown",
   "source": "### Convert horsepower to metric kW",
   "id": "f67cbf512a79c9a8"
  },
  {
   "metadata": {
    "ExecuteTime": {
     "end_time": "2024-08-19T17:19:38.695436Z",
     "start_time": "2024-08-19T17:19:38.687602Z"
    }
   },
   "cell_type": "code",
   "source": [
    "def convert_to_kw(power):\n",
    "    match power:\n",
    "        case float():\n",
    "            return float(power) * 0.746\n",
    "        case _:\n",
    "            power_kw = float(power.replace(\"+\", \"\").replace(\",\", \"\")) * 0.746\n",
    "            if \"+\" in power:\n",
    "                return f\"${power_kw}+\"\n",
    "            return power_kw\n",
    "\n",
    "df[\"power\"] = df[\"horsepower\"].apply(convert_to_kw)\n",
    "df.drop([\"horsepower\"], axis=1, inplace=True)\n",
    "df.head()"
   ],
   "id": "3ac6d4b987d55659",
   "outputs": [
    {
     "data": {
      "text/plain": [
       "         brand    model  year engine_size torque 0-60    price power_type  \\\n",
       "0      Porsche      911  2022         3.0    331    4  101,200   gasoline   \n",
       "1  Lamborghini  Huracan  2021         5.2    443  2.8  274,390   gasoline   \n",
       "2      Ferrari  488 GTB  2022         3.9    561    3  333,750   gasoline   \n",
       "3         Audi       R8  2022         5.2    406  3.2  142,700   gasoline   \n",
       "4      McLaren     720S  2021         4.0    568  2.7  298,000   gasoline   \n",
       "\n",
       "     power  \n",
       "0  282.734  \n",
       "1   469.98  \n",
       "2  493.106  \n",
       "3  419.252  \n",
       "4   529.66  "
      ],
      "text/html": [
       "<div>\n",
       "<style scoped>\n",
       "    .dataframe tbody tr th:only-of-type {\n",
       "        vertical-align: middle;\n",
       "    }\n",
       "\n",
       "    .dataframe tbody tr th {\n",
       "        vertical-align: top;\n",
       "    }\n",
       "\n",
       "    .dataframe thead th {\n",
       "        text-align: right;\n",
       "    }\n",
       "</style>\n",
       "<table border=\"1\" class=\"dataframe\">\n",
       "  <thead>\n",
       "    <tr style=\"text-align: right;\">\n",
       "      <th></th>\n",
       "      <th>brand</th>\n",
       "      <th>model</th>\n",
       "      <th>year</th>\n",
       "      <th>engine_size</th>\n",
       "      <th>torque</th>\n",
       "      <th>0-60</th>\n",
       "      <th>price</th>\n",
       "      <th>power_type</th>\n",
       "      <th>power</th>\n",
       "    </tr>\n",
       "  </thead>\n",
       "  <tbody>\n",
       "    <tr>\n",
       "      <th>0</th>\n",
       "      <td>Porsche</td>\n",
       "      <td>911</td>\n",
       "      <td>2022</td>\n",
       "      <td>3.0</td>\n",
       "      <td>331</td>\n",
       "      <td>4</td>\n",
       "      <td>101,200</td>\n",
       "      <td>gasoline</td>\n",
       "      <td>282.734</td>\n",
       "    </tr>\n",
       "    <tr>\n",
       "      <th>1</th>\n",
       "      <td>Lamborghini</td>\n",
       "      <td>Huracan</td>\n",
       "      <td>2021</td>\n",
       "      <td>5.2</td>\n",
       "      <td>443</td>\n",
       "      <td>2.8</td>\n",
       "      <td>274,390</td>\n",
       "      <td>gasoline</td>\n",
       "      <td>469.98</td>\n",
       "    </tr>\n",
       "    <tr>\n",
       "      <th>2</th>\n",
       "      <td>Ferrari</td>\n",
       "      <td>488 GTB</td>\n",
       "      <td>2022</td>\n",
       "      <td>3.9</td>\n",
       "      <td>561</td>\n",
       "      <td>3</td>\n",
       "      <td>333,750</td>\n",
       "      <td>gasoline</td>\n",
       "      <td>493.106</td>\n",
       "    </tr>\n",
       "    <tr>\n",
       "      <th>3</th>\n",
       "      <td>Audi</td>\n",
       "      <td>R8</td>\n",
       "      <td>2022</td>\n",
       "      <td>5.2</td>\n",
       "      <td>406</td>\n",
       "      <td>3.2</td>\n",
       "      <td>142,700</td>\n",
       "      <td>gasoline</td>\n",
       "      <td>419.252</td>\n",
       "    </tr>\n",
       "    <tr>\n",
       "      <th>4</th>\n",
       "      <td>McLaren</td>\n",
       "      <td>720S</td>\n",
       "      <td>2021</td>\n",
       "      <td>4.0</td>\n",
       "      <td>568</td>\n",
       "      <td>2.7</td>\n",
       "      <td>298,000</td>\n",
       "      <td>gasoline</td>\n",
       "      <td>529.66</td>\n",
       "    </tr>\n",
       "  </tbody>\n",
       "</table>\n",
       "</div>"
      ]
     },
     "execution_count": 60,
     "metadata": {},
     "output_type": "execute_result"
    }
   ],
   "execution_count": 60
  },
  {
   "metadata": {},
   "cell_type": "markdown",
   "source": "### Drop torque with \"-\" and 0 rows",
   "id": "ba700375ee4af849"
  },
  {
   "metadata": {
    "ExecuteTime": {
     "end_time": "2024-08-19T17:19:38.777236Z",
     "start_time": "2024-08-19T17:19:38.774406Z"
    }
   },
   "cell_type": "code",
   "source": "df = df[df[\"torque\"] != \"-\"]",
   "id": "5386cfde91d4ef85",
   "outputs": [],
   "execution_count": 61
  },
  {
   "metadata": {},
   "cell_type": "markdown",
   "source": "### Convert torque lb-ft to metric Nm",
   "id": "e50a66804d363e0e"
  },
  {
   "metadata": {
    "ExecuteTime": {
     "end_time": "2024-08-19T17:19:38.846170Z",
     "start_time": "2024-08-19T17:19:38.836468Z"
    }
   },
   "cell_type": "code",
   "source": [
    "def convert_to_nm(torque):\n",
    "    match torque:\n",
    "        case float():\n",
    "            return float(torque) * 1.36\n",
    "        case _:\n",
    "            torque_nm = float(torque.replace(\"+\", \"\").replace(\",\", \"\")) * 1.36\n",
    "            if \"+\" in torque:\n",
    "                return f\"${torque_nm}+\"\n",
    "            return torque_nm\n",
    "df[\"torque\"] = df[\"torque\"].apply(convert_to_nm)\n",
    "df.head()"
   ],
   "id": "6d531c41e4e0da2",
   "outputs": [
    {
     "data": {
      "text/plain": [
       "         brand    model  year engine_size  torque 0-60    price power_type  \\\n",
       "0      Porsche      911  2022         3.0  450.16    4  101,200   gasoline   \n",
       "1  Lamborghini  Huracan  2021         5.2  602.48  2.8  274,390   gasoline   \n",
       "2      Ferrari  488 GTB  2022         3.9  762.96    3  333,750   gasoline   \n",
       "3         Audi       R8  2022         5.2  552.16  3.2  142,700   gasoline   \n",
       "4      McLaren     720S  2021         4.0  772.48  2.7  298,000   gasoline   \n",
       "\n",
       "     power  \n",
       "0  282.734  \n",
       "1   469.98  \n",
       "2  493.106  \n",
       "3  419.252  \n",
       "4   529.66  "
      ],
      "text/html": [
       "<div>\n",
       "<style scoped>\n",
       "    .dataframe tbody tr th:only-of-type {\n",
       "        vertical-align: middle;\n",
       "    }\n",
       "\n",
       "    .dataframe tbody tr th {\n",
       "        vertical-align: top;\n",
       "    }\n",
       "\n",
       "    .dataframe thead th {\n",
       "        text-align: right;\n",
       "    }\n",
       "</style>\n",
       "<table border=\"1\" class=\"dataframe\">\n",
       "  <thead>\n",
       "    <tr style=\"text-align: right;\">\n",
       "      <th></th>\n",
       "      <th>brand</th>\n",
       "      <th>model</th>\n",
       "      <th>year</th>\n",
       "      <th>engine_size</th>\n",
       "      <th>torque</th>\n",
       "      <th>0-60</th>\n",
       "      <th>price</th>\n",
       "      <th>power_type</th>\n",
       "      <th>power</th>\n",
       "    </tr>\n",
       "  </thead>\n",
       "  <tbody>\n",
       "    <tr>\n",
       "      <th>0</th>\n",
       "      <td>Porsche</td>\n",
       "      <td>911</td>\n",
       "      <td>2022</td>\n",
       "      <td>3.0</td>\n",
       "      <td>450.16</td>\n",
       "      <td>4</td>\n",
       "      <td>101,200</td>\n",
       "      <td>gasoline</td>\n",
       "      <td>282.734</td>\n",
       "    </tr>\n",
       "    <tr>\n",
       "      <th>1</th>\n",
       "      <td>Lamborghini</td>\n",
       "      <td>Huracan</td>\n",
       "      <td>2021</td>\n",
       "      <td>5.2</td>\n",
       "      <td>602.48</td>\n",
       "      <td>2.8</td>\n",
       "      <td>274,390</td>\n",
       "      <td>gasoline</td>\n",
       "      <td>469.98</td>\n",
       "    </tr>\n",
       "    <tr>\n",
       "      <th>2</th>\n",
       "      <td>Ferrari</td>\n",
       "      <td>488 GTB</td>\n",
       "      <td>2022</td>\n",
       "      <td>3.9</td>\n",
       "      <td>762.96</td>\n",
       "      <td>3</td>\n",
       "      <td>333,750</td>\n",
       "      <td>gasoline</td>\n",
       "      <td>493.106</td>\n",
       "    </tr>\n",
       "    <tr>\n",
       "      <th>3</th>\n",
       "      <td>Audi</td>\n",
       "      <td>R8</td>\n",
       "      <td>2022</td>\n",
       "      <td>5.2</td>\n",
       "      <td>552.16</td>\n",
       "      <td>3.2</td>\n",
       "      <td>142,700</td>\n",
       "      <td>gasoline</td>\n",
       "      <td>419.252</td>\n",
       "    </tr>\n",
       "    <tr>\n",
       "      <th>4</th>\n",
       "      <td>McLaren</td>\n",
       "      <td>720S</td>\n",
       "      <td>2021</td>\n",
       "      <td>4.0</td>\n",
       "      <td>772.48</td>\n",
       "      <td>2.7</td>\n",
       "      <td>298,000</td>\n",
       "      <td>gasoline</td>\n",
       "      <td>529.66</td>\n",
       "    </tr>\n",
       "  </tbody>\n",
       "</table>\n",
       "</div>"
      ]
     },
     "execution_count": 62,
     "metadata": {},
     "output_type": "execute_result"
    }
   ],
   "execution_count": 62
  },
  {
   "metadata": {},
   "cell_type": "markdown",
   "source": "### Convert 0-60mph to 0-100kmh",
   "id": "1cc5c9a874ee0c27"
  },
  {
   "metadata": {
    "ExecuteTime": {
     "end_time": "2024-08-19T17:19:38.978139Z",
     "start_time": "2024-08-19T17:19:38.969384Z"
    }
   },
   "cell_type": "code",
   "source": [
    "def convert_to_zero_to_hundred_kmh(time):\n",
    "    time_kmh = float(time.replace(\"< \", \"\")) * 1.05\n",
    "    if \"<\" in time:\n",
    "        return f\"< {time_kmh}\"\n",
    "    return time_kmh\n",
    "df[\"acceleration\"] = df[\"0-60\"].apply(convert_to_zero_to_hundred_kmh)\n",
    "df.drop([\"0-60\"], axis=1, inplace=True)\n",
    "df.head()"
   ],
   "id": "fa641fbf63cd67b5",
   "outputs": [
    {
     "data": {
      "text/plain": [
       "         brand    model  year engine_size  torque    price power_type  \\\n",
       "0      Porsche      911  2022         3.0  450.16  101,200   gasoline   \n",
       "1  Lamborghini  Huracan  2021         5.2  602.48  274,390   gasoline   \n",
       "2      Ferrari  488 GTB  2022         3.9  762.96  333,750   gasoline   \n",
       "3         Audi       R8  2022         5.2  552.16  142,700   gasoline   \n",
       "4      McLaren     720S  2021         4.0  772.48  298,000   gasoline   \n",
       "\n",
       "     power acceleration  \n",
       "0  282.734          4.2  \n",
       "1   469.98         2.94  \n",
       "2  493.106         3.15  \n",
       "3  419.252         3.36  \n",
       "4   529.66        2.835  "
      ],
      "text/html": [
       "<div>\n",
       "<style scoped>\n",
       "    .dataframe tbody tr th:only-of-type {\n",
       "        vertical-align: middle;\n",
       "    }\n",
       "\n",
       "    .dataframe tbody tr th {\n",
       "        vertical-align: top;\n",
       "    }\n",
       "\n",
       "    .dataframe thead th {\n",
       "        text-align: right;\n",
       "    }\n",
       "</style>\n",
       "<table border=\"1\" class=\"dataframe\">\n",
       "  <thead>\n",
       "    <tr style=\"text-align: right;\">\n",
       "      <th></th>\n",
       "      <th>brand</th>\n",
       "      <th>model</th>\n",
       "      <th>year</th>\n",
       "      <th>engine_size</th>\n",
       "      <th>torque</th>\n",
       "      <th>price</th>\n",
       "      <th>power_type</th>\n",
       "      <th>power</th>\n",
       "      <th>acceleration</th>\n",
       "    </tr>\n",
       "  </thead>\n",
       "  <tbody>\n",
       "    <tr>\n",
       "      <th>0</th>\n",
       "      <td>Porsche</td>\n",
       "      <td>911</td>\n",
       "      <td>2022</td>\n",
       "      <td>3.0</td>\n",
       "      <td>450.16</td>\n",
       "      <td>101,200</td>\n",
       "      <td>gasoline</td>\n",
       "      <td>282.734</td>\n",
       "      <td>4.2</td>\n",
       "    </tr>\n",
       "    <tr>\n",
       "      <th>1</th>\n",
       "      <td>Lamborghini</td>\n",
       "      <td>Huracan</td>\n",
       "      <td>2021</td>\n",
       "      <td>5.2</td>\n",
       "      <td>602.48</td>\n",
       "      <td>274,390</td>\n",
       "      <td>gasoline</td>\n",
       "      <td>469.98</td>\n",
       "      <td>2.94</td>\n",
       "    </tr>\n",
       "    <tr>\n",
       "      <th>2</th>\n",
       "      <td>Ferrari</td>\n",
       "      <td>488 GTB</td>\n",
       "      <td>2022</td>\n",
       "      <td>3.9</td>\n",
       "      <td>762.96</td>\n",
       "      <td>333,750</td>\n",
       "      <td>gasoline</td>\n",
       "      <td>493.106</td>\n",
       "      <td>3.15</td>\n",
       "    </tr>\n",
       "    <tr>\n",
       "      <th>3</th>\n",
       "      <td>Audi</td>\n",
       "      <td>R8</td>\n",
       "      <td>2022</td>\n",
       "      <td>5.2</td>\n",
       "      <td>552.16</td>\n",
       "      <td>142,700</td>\n",
       "      <td>gasoline</td>\n",
       "      <td>419.252</td>\n",
       "      <td>3.36</td>\n",
       "    </tr>\n",
       "    <tr>\n",
       "      <th>4</th>\n",
       "      <td>McLaren</td>\n",
       "      <td>720S</td>\n",
       "      <td>2021</td>\n",
       "      <td>4.0</td>\n",
       "      <td>772.48</td>\n",
       "      <td>298,000</td>\n",
       "      <td>gasoline</td>\n",
       "      <td>529.66</td>\n",
       "      <td>2.835</td>\n",
       "    </tr>\n",
       "  </tbody>\n",
       "</table>\n",
       "</div>"
      ]
     },
     "execution_count": 63,
     "metadata": {},
     "output_type": "execute_result"
    }
   ],
   "execution_count": 63
  },
  {
   "metadata": {},
   "cell_type": "markdown",
   "source": "### Remove \",\" from prices",
   "id": "a5d73e123390d416"
  },
  {
   "metadata": {
    "ExecuteTime": {
     "end_time": "2024-08-19T17:19:39.091696Z",
     "start_time": "2024-08-19T17:19:39.083582Z"
    }
   },
   "cell_type": "code",
   "source": [
    "df[\"price\"] = df[\"price\"].apply(lambda price: int(price.replace(\",\", \"\")))\n",
    "df.head()"
   ],
   "id": "cb631270ff4fa068",
   "outputs": [
    {
     "data": {
      "text/plain": [
       "         brand    model  year engine_size  torque   price power_type    power  \\\n",
       "0      Porsche      911  2022         3.0  450.16  101200   gasoline  282.734   \n",
       "1  Lamborghini  Huracan  2021         5.2  602.48  274390   gasoline   469.98   \n",
       "2      Ferrari  488 GTB  2022         3.9  762.96  333750   gasoline  493.106   \n",
       "3         Audi       R8  2022         5.2  552.16  142700   gasoline  419.252   \n",
       "4      McLaren     720S  2021         4.0  772.48  298000   gasoline   529.66   \n",
       "\n",
       "  acceleration  \n",
       "0          4.2  \n",
       "1         2.94  \n",
       "2         3.15  \n",
       "3         3.36  \n",
       "4        2.835  "
      ],
      "text/html": [
       "<div>\n",
       "<style scoped>\n",
       "    .dataframe tbody tr th:only-of-type {\n",
       "        vertical-align: middle;\n",
       "    }\n",
       "\n",
       "    .dataframe tbody tr th {\n",
       "        vertical-align: top;\n",
       "    }\n",
       "\n",
       "    .dataframe thead th {\n",
       "        text-align: right;\n",
       "    }\n",
       "</style>\n",
       "<table border=\"1\" class=\"dataframe\">\n",
       "  <thead>\n",
       "    <tr style=\"text-align: right;\">\n",
       "      <th></th>\n",
       "      <th>brand</th>\n",
       "      <th>model</th>\n",
       "      <th>year</th>\n",
       "      <th>engine_size</th>\n",
       "      <th>torque</th>\n",
       "      <th>price</th>\n",
       "      <th>power_type</th>\n",
       "      <th>power</th>\n",
       "      <th>acceleration</th>\n",
       "    </tr>\n",
       "  </thead>\n",
       "  <tbody>\n",
       "    <tr>\n",
       "      <th>0</th>\n",
       "      <td>Porsche</td>\n",
       "      <td>911</td>\n",
       "      <td>2022</td>\n",
       "      <td>3.0</td>\n",
       "      <td>450.16</td>\n",
       "      <td>101200</td>\n",
       "      <td>gasoline</td>\n",
       "      <td>282.734</td>\n",
       "      <td>4.2</td>\n",
       "    </tr>\n",
       "    <tr>\n",
       "      <th>1</th>\n",
       "      <td>Lamborghini</td>\n",
       "      <td>Huracan</td>\n",
       "      <td>2021</td>\n",
       "      <td>5.2</td>\n",
       "      <td>602.48</td>\n",
       "      <td>274390</td>\n",
       "      <td>gasoline</td>\n",
       "      <td>469.98</td>\n",
       "      <td>2.94</td>\n",
       "    </tr>\n",
       "    <tr>\n",
       "      <th>2</th>\n",
       "      <td>Ferrari</td>\n",
       "      <td>488 GTB</td>\n",
       "      <td>2022</td>\n",
       "      <td>3.9</td>\n",
       "      <td>762.96</td>\n",
       "      <td>333750</td>\n",
       "      <td>gasoline</td>\n",
       "      <td>493.106</td>\n",
       "      <td>3.15</td>\n",
       "    </tr>\n",
       "    <tr>\n",
       "      <th>3</th>\n",
       "      <td>Audi</td>\n",
       "      <td>R8</td>\n",
       "      <td>2022</td>\n",
       "      <td>5.2</td>\n",
       "      <td>552.16</td>\n",
       "      <td>142700</td>\n",
       "      <td>gasoline</td>\n",
       "      <td>419.252</td>\n",
       "      <td>3.36</td>\n",
       "    </tr>\n",
       "    <tr>\n",
       "      <th>4</th>\n",
       "      <td>McLaren</td>\n",
       "      <td>720S</td>\n",
       "      <td>2021</td>\n",
       "      <td>4.0</td>\n",
       "      <td>772.48</td>\n",
       "      <td>298000</td>\n",
       "      <td>gasoline</td>\n",
       "      <td>529.66</td>\n",
       "      <td>2.835</td>\n",
       "    </tr>\n",
       "  </tbody>\n",
       "</table>\n",
       "</div>"
      ]
     },
     "execution_count": 64,
     "metadata": {},
     "output_type": "execute_result"
    }
   ],
   "execution_count": 64
  },
  {
   "metadata": {},
   "cell_type": "markdown",
   "source": "### Rearrange columns",
   "id": "c8bad8f25ca16bdc"
  },
  {
   "metadata": {
    "ExecuteTime": {
     "end_time": "2024-08-19T17:19:39.273324Z",
     "start_time": "2024-08-19T17:19:39.263511Z"
    }
   },
   "cell_type": "code",
   "source": [
    "df.columns = [\"brand\", \"model\", \"year\", \"price\", \"power_type\", \"acceleration\", \"engine_size\", \"power\", \"torque\"]\n",
    "df.head()"
   ],
   "id": "7ede1805659ebede",
   "outputs": [
    {
     "data": {
      "text/plain": [
       "         brand    model  year price power_type  acceleration engine_size  \\\n",
       "0      Porsche      911  2022   3.0     450.16        101200    gasoline   \n",
       "1  Lamborghini  Huracan  2021   5.2     602.48        274390    gasoline   \n",
       "2      Ferrari  488 GTB  2022   3.9     762.96        333750    gasoline   \n",
       "3         Audi       R8  2022   5.2     552.16        142700    gasoline   \n",
       "4      McLaren     720S  2021   4.0     772.48        298000    gasoline   \n",
       "\n",
       "     power torque  \n",
       "0  282.734    4.2  \n",
       "1   469.98   2.94  \n",
       "2  493.106   3.15  \n",
       "3  419.252   3.36  \n",
       "4   529.66  2.835  "
      ],
      "text/html": [
       "<div>\n",
       "<style scoped>\n",
       "    .dataframe tbody tr th:only-of-type {\n",
       "        vertical-align: middle;\n",
       "    }\n",
       "\n",
       "    .dataframe tbody tr th {\n",
       "        vertical-align: top;\n",
       "    }\n",
       "\n",
       "    .dataframe thead th {\n",
       "        text-align: right;\n",
       "    }\n",
       "</style>\n",
       "<table border=\"1\" class=\"dataframe\">\n",
       "  <thead>\n",
       "    <tr style=\"text-align: right;\">\n",
       "      <th></th>\n",
       "      <th>brand</th>\n",
       "      <th>model</th>\n",
       "      <th>year</th>\n",
       "      <th>price</th>\n",
       "      <th>power_type</th>\n",
       "      <th>acceleration</th>\n",
       "      <th>engine_size</th>\n",
       "      <th>power</th>\n",
       "      <th>torque</th>\n",
       "    </tr>\n",
       "  </thead>\n",
       "  <tbody>\n",
       "    <tr>\n",
       "      <th>0</th>\n",
       "      <td>Porsche</td>\n",
       "      <td>911</td>\n",
       "      <td>2022</td>\n",
       "      <td>3.0</td>\n",
       "      <td>450.16</td>\n",
       "      <td>101200</td>\n",
       "      <td>gasoline</td>\n",
       "      <td>282.734</td>\n",
       "      <td>4.2</td>\n",
       "    </tr>\n",
       "    <tr>\n",
       "      <th>1</th>\n",
       "      <td>Lamborghini</td>\n",
       "      <td>Huracan</td>\n",
       "      <td>2021</td>\n",
       "      <td>5.2</td>\n",
       "      <td>602.48</td>\n",
       "      <td>274390</td>\n",
       "      <td>gasoline</td>\n",
       "      <td>469.98</td>\n",
       "      <td>2.94</td>\n",
       "    </tr>\n",
       "    <tr>\n",
       "      <th>2</th>\n",
       "      <td>Ferrari</td>\n",
       "      <td>488 GTB</td>\n",
       "      <td>2022</td>\n",
       "      <td>3.9</td>\n",
       "      <td>762.96</td>\n",
       "      <td>333750</td>\n",
       "      <td>gasoline</td>\n",
       "      <td>493.106</td>\n",
       "      <td>3.15</td>\n",
       "    </tr>\n",
       "    <tr>\n",
       "      <th>3</th>\n",
       "      <td>Audi</td>\n",
       "      <td>R8</td>\n",
       "      <td>2022</td>\n",
       "      <td>5.2</td>\n",
       "      <td>552.16</td>\n",
       "      <td>142700</td>\n",
       "      <td>gasoline</td>\n",
       "      <td>419.252</td>\n",
       "      <td>3.36</td>\n",
       "    </tr>\n",
       "    <tr>\n",
       "      <th>4</th>\n",
       "      <td>McLaren</td>\n",
       "      <td>720S</td>\n",
       "      <td>2021</td>\n",
       "      <td>4.0</td>\n",
       "      <td>772.48</td>\n",
       "      <td>298000</td>\n",
       "      <td>gasoline</td>\n",
       "      <td>529.66</td>\n",
       "      <td>2.835</td>\n",
       "    </tr>\n",
       "  </tbody>\n",
       "</table>\n",
       "</div>"
      ]
     },
     "execution_count": 65,
     "metadata": {},
     "output_type": "execute_result"
    }
   ],
   "execution_count": 65
  },
  {
   "metadata": {},
   "cell_type": "markdown",
   "source": "### Save processed data",
   "id": "70a023f6655a562b"
  },
  {
   "metadata": {
    "ExecuteTime": {
     "end_time": "2024-08-19T17:19:39.367794Z",
     "start_time": "2024-08-19T17:19:39.358527Z"
    }
   },
   "cell_type": "code",
   "source": "df.to_csv(\"../dataset/processed_data.csv\", index=False, header=True)",
   "id": "c2e063f0876ff808",
   "outputs": [],
   "execution_count": 66
  }
 ],
 "metadata": {
  "kernelspec": {
   "display_name": "Python 3",
   "language": "python",
   "name": "python3"
  },
  "language_info": {
   "codemirror_mode": {
    "name": "ipython",
    "version": 2
   },
   "file_extension": ".py",
   "mimetype": "text/x-python",
   "name": "python",
   "nbconvert_exporter": "python",
   "pygments_lexer": "ipython2",
   "version": "2.7.6"
  }
 },
 "nbformat": 4,
 "nbformat_minor": 5
}
